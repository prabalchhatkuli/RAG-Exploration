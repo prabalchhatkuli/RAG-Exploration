{
 "cells": [
  {
   "metadata": {},
   "cell_type": "markdown",
   "source": "# Ted Talks : Extending local LLM capability to extract data using Vector embeddings",
   "id": "ff2d9b53c230ed3e"
  },
  {
   "metadata": {},
   "cell_type": "markdown",
   "source": "local llm installation: https://github.com/Mozilla-Ocho/llamafile?tab=readme-ov-file",
   "id": "849a5f952a3f0a76"
  },
  {
   "metadata": {},
   "cell_type": "markdown",
   "source": "Dataset From: https://www.kaggle.com/datasets/ahmadfatani/ted-talks-dataset",
   "id": "9c8a5bf08875a1ba"
  },
  {
   "metadata": {
    "ExecuteTime": {
     "end_time": "2025-03-01T04:33:52.879933Z",
     "start_time": "2025-03-01T04:33:52.838728Z"
    }
   },
   "cell_type": "code",
   "outputs": [],
   "execution_count": 2,
   "source": [
    "import pandas as pd\n",
    "from huggingface_hub import Collection\n",
    "\n",
    "df = pd.read_csv('ted_main_v2.csv')"
   ],
   "id": "d566bb99-6808-4976-8476-ed05b7941b80"
  },
  {
   "metadata": {
    "ExecuteTime": {
     "end_time": "2025-03-01T04:35:34.152198Z",
     "start_time": "2025-03-01T04:35:34.136524Z"
    }
   },
   "cell_type": "code",
   "outputs": [
    {
     "data": {
      "text/plain": [
       "       speaker_name                                              title  \\\n",
       "0      Alex Gendler           The Egyptian myth of the death of Osiris   \n",
       "1       Shari Davis  What if you could help decide how the governme...   \n",
       "2  Nita Mosby Tyler        Want a more just world? Be an unlikely ally   \n",
       "3      Susan Lupack           The race to decode a mysterious language   \n",
       "4     Ariel Waldman  The colorful critter world of microbes in Anta...   \n",
       "\n",
       "  posted_date duration                                               Link  \\\n",
       "0    Jul 2020     3:56  https://www.ted.com/talks/alex_gendler_the_egy...   \n",
       "1    Jul 2020    10:28  https://www.ted.com/talks/shari_davis_what_if_...   \n",
       "2    Jul 2020    10:15  https://www.ted.com/talks/nita_mosby_tyler_wan...   \n",
       "3    Jul 2020     4:24  https://www.ted.com/talks/susan_lupack_the_rac...   \n",
       "4    Jul 2020     5:56  https://www.ted.com/talks/ariel_waldman_the_co...   \n",
       "\n",
       "                                       about_speaker  \\\n",
       "0                                                NaN   \n",
       "1  As a leader of the Participatory Budgeting Pro...   \n",
       "2  Nita Mosby Tyler specializes in the developmen...   \n",
       "3                                                NaN   \n",
       "4  An artist who's pivoted to science, Ariel Wald...   \n",
       "\n",
       "                                          about_talk    views  \\\n",
       "0  Long jealous of his older brother Osiris, the ...  208,703   \n",
       "1  What if you could help decide how the governme...  425,688   \n",
       "2  A more equal world starts with you. Citing a f...  460,269   \n",
       "3  In the early 1900s, archaeologist Sir Arthur E...  350,202   \n",
       "4  In this tour of the microscopic world, explore...  333,482   \n",
       "\n",
       "                             tags  \n",
       "0  education,ancient world,TED-Ed  \n",
       "1  democracy,leadership,community  \n",
       "2        activism,inequality,race  \n",
       "3       TED-Ed,education,language  \n",
       "4     science,animals,exploration  "
      ],
      "text/html": [
       "<div>\n",
       "<style scoped>\n",
       "    .dataframe tbody tr th:only-of-type {\n",
       "        vertical-align: middle;\n",
       "    }\n",
       "\n",
       "    .dataframe tbody tr th {\n",
       "        vertical-align: top;\n",
       "    }\n",
       "\n",
       "    .dataframe thead th {\n",
       "        text-align: right;\n",
       "    }\n",
       "</style>\n",
       "<table border=\"1\" class=\"dataframe\">\n",
       "  <thead>\n",
       "    <tr style=\"text-align: right;\">\n",
       "      <th></th>\n",
       "      <th>speaker_name</th>\n",
       "      <th>title</th>\n",
       "      <th>posted_date</th>\n",
       "      <th>duration</th>\n",
       "      <th>Link</th>\n",
       "      <th>about_speaker</th>\n",
       "      <th>about_talk</th>\n",
       "      <th>views</th>\n",
       "      <th>tags</th>\n",
       "    </tr>\n",
       "  </thead>\n",
       "  <tbody>\n",
       "    <tr>\n",
       "      <th>0</th>\n",
       "      <td>Alex Gendler</td>\n",
       "      <td>The Egyptian myth of the death of Osiris</td>\n",
       "      <td>Jul 2020</td>\n",
       "      <td>3:56</td>\n",
       "      <td>https://www.ted.com/talks/alex_gendler_the_egy...</td>\n",
       "      <td>NaN</td>\n",
       "      <td>Long jealous of his older brother Osiris, the ...</td>\n",
       "      <td>208,703</td>\n",
       "      <td>education,ancient world,TED-Ed</td>\n",
       "    </tr>\n",
       "    <tr>\n",
       "      <th>1</th>\n",
       "      <td>Shari Davis</td>\n",
       "      <td>What if you could help decide how the governme...</td>\n",
       "      <td>Jul 2020</td>\n",
       "      <td>10:28</td>\n",
       "      <td>https://www.ted.com/talks/shari_davis_what_if_...</td>\n",
       "      <td>As a leader of the Participatory Budgeting Pro...</td>\n",
       "      <td>What if you could help decide how the governme...</td>\n",
       "      <td>425,688</td>\n",
       "      <td>democracy,leadership,community</td>\n",
       "    </tr>\n",
       "    <tr>\n",
       "      <th>2</th>\n",
       "      <td>Nita Mosby Tyler</td>\n",
       "      <td>Want a more just world? Be an unlikely ally</td>\n",
       "      <td>Jul 2020</td>\n",
       "      <td>10:15</td>\n",
       "      <td>https://www.ted.com/talks/nita_mosby_tyler_wan...</td>\n",
       "      <td>Nita Mosby Tyler specializes in the developmen...</td>\n",
       "      <td>A more equal world starts with you. Citing a f...</td>\n",
       "      <td>460,269</td>\n",
       "      <td>activism,inequality,race</td>\n",
       "    </tr>\n",
       "    <tr>\n",
       "      <th>3</th>\n",
       "      <td>Susan Lupack</td>\n",
       "      <td>The race to decode a mysterious language</td>\n",
       "      <td>Jul 2020</td>\n",
       "      <td>4:24</td>\n",
       "      <td>https://www.ted.com/talks/susan_lupack_the_rac...</td>\n",
       "      <td>NaN</td>\n",
       "      <td>In the early 1900s, archaeologist Sir Arthur E...</td>\n",
       "      <td>350,202</td>\n",
       "      <td>TED-Ed,education,language</td>\n",
       "    </tr>\n",
       "    <tr>\n",
       "      <th>4</th>\n",
       "      <td>Ariel Waldman</td>\n",
       "      <td>The colorful critter world of microbes in Anta...</td>\n",
       "      <td>Jul 2020</td>\n",
       "      <td>5:56</td>\n",
       "      <td>https://www.ted.com/talks/ariel_waldman_the_co...</td>\n",
       "      <td>An artist who's pivoted to science, Ariel Wald...</td>\n",
       "      <td>In this tour of the microscopic world, explore...</td>\n",
       "      <td>333,482</td>\n",
       "      <td>science,animals,exploration</td>\n",
       "    </tr>\n",
       "  </tbody>\n",
       "</table>\n",
       "</div>"
      ]
     },
     "execution_count": 8,
     "metadata": {},
     "output_type": "execute_result"
    }
   ],
   "execution_count": 8,
   "source": "df.head()",
   "id": "e01110beca22f120"
  },
  {
   "metadata": {
    "ExecuteTime": {
     "end_time": "2025-03-01T04:35:46.596121Z",
     "start_time": "2025-03-01T04:35:46.578521Z"
    }
   },
   "cell_type": "code",
   "outputs": [
    {
     "data": {
      "text/plain": [
       "Index(['speaker_name', 'title', 'posted_date', 'duration', 'Link',\n",
       "       'about_speaker', 'about_talk', 'views', 'tags'],\n",
       "      dtype='object')"
      ]
     },
     "execution_count": 9,
     "metadata": {},
     "output_type": "execute_result"
    }
   ],
   "execution_count": 9,
   "source": "df.columns",
   "id": "e87d8c9a6b32c72e"
  },
  {
   "metadata": {
    "ExecuteTime": {
     "end_time": "2025-03-01T04:36:39.252316Z",
     "start_time": "2025-03-01T04:36:39.222759Z"
    }
   },
   "cell_type": "code",
   "outputs": [
    {
     "data": {
      "text/plain": [
       "2159"
      ]
     },
     "execution_count": 10,
     "metadata": {},
     "output_type": "execute_result"
    }
   ],
   "execution_count": 10,
   "source": [
    "df = df[df['about_talk'].notna()] # remove any NaN values as it blows up serialization\n",
    "#data = df.sample(700).to_dict('records') # Get only 700 records. More records will make it slower to index\n",
    "data = df.to_dict('records')\n",
    "len(data)"
   ],
   "id": "9245ebaa0ae48f8f"
  },
  {
   "metadata": {
    "ExecuteTime": {
     "end_time": "2025-03-01T04:37:15.206235Z",
     "start_time": "2025-03-01T04:36:45.403887Z"
    }
   },
   "cell_type": "code",
   "outputs": [],
   "execution_count": 11,
   "source": [
    "from qdrant_client import models, QdrantClient\n",
    "from sentence_transformers import SentenceTransformer"
   ],
   "id": "af8bce2c-e123-498a-a5f2-cefffd17fc74"
  },
  {
   "metadata": {
    "ExecuteTime": {
     "end_time": "2025-03-01T04:37:43.622151Z",
     "start_time": "2025-03-01T04:37:38.894348Z"
    }
   },
   "cell_type": "code",
   "outputs": [
    {
     "data": {
      "text/plain": [
       "modules.json:   0%|          | 0.00/349 [00:00<?, ?B/s]"
      ],
      "application/vnd.jupyter.widget-view+json": {
       "version_major": 2,
       "version_minor": 0,
       "model_id": "96daa1548ad1409d875c5456604f4a51"
      }
     },
     "metadata": {},
     "output_type": "display_data"
    },
    {
     "data": {
      "text/plain": [
       "config_sentence_transformers.json:   0%|          | 0.00/116 [00:00<?, ?B/s]"
      ],
      "application/vnd.jupyter.widget-view+json": {
       "version_major": 2,
       "version_minor": 0,
       "model_id": "3b485da05a1e431784b986d774ca3fa7"
      }
     },
     "metadata": {},
     "output_type": "display_data"
    },
    {
     "data": {
      "text/plain": [
       "README.md:   0%|          | 0.00/10.7k [00:00<?, ?B/s]"
      ],
      "application/vnd.jupyter.widget-view+json": {
       "version_major": 2,
       "version_minor": 0,
       "model_id": "f544dbfa843c482fbe6a08c487e81402"
      }
     },
     "metadata": {},
     "output_type": "display_data"
    },
    {
     "data": {
      "text/plain": [
       "sentence_bert_config.json:   0%|          | 0.00/53.0 [00:00<?, ?B/s]"
      ],
      "application/vnd.jupyter.widget-view+json": {
       "version_major": 2,
       "version_minor": 0,
       "model_id": "daddbb37555c4081a222091ea8c50d24"
      }
     },
     "metadata": {},
     "output_type": "display_data"
    },
    {
     "data": {
      "text/plain": [
       "config.json:   0%|          | 0.00/612 [00:00<?, ?B/s]"
      ],
      "application/vnd.jupyter.widget-view+json": {
       "version_major": 2,
       "version_minor": 0,
       "model_id": "d94925c276d84d8a8f45109ee591ae7c"
      }
     },
     "metadata": {},
     "output_type": "display_data"
    },
    {
     "data": {
      "text/plain": [
       "model.safetensors:   0%|          | 0.00/90.9M [00:00<?, ?B/s]"
      ],
      "application/vnd.jupyter.widget-view+json": {
       "version_major": 2,
       "version_minor": 0,
       "model_id": "4c8cf07b38a04c149f14c2e68705b71a"
      }
     },
     "metadata": {},
     "output_type": "display_data"
    },
    {
     "data": {
      "text/plain": [
       "tokenizer_config.json:   0%|          | 0.00/350 [00:00<?, ?B/s]"
      ],
      "application/vnd.jupyter.widget-view+json": {
       "version_major": 2,
       "version_minor": 0,
       "model_id": "5aa53883562d459ea43840e18fed60c4"
      }
     },
     "metadata": {},
     "output_type": "display_data"
    },
    {
     "data": {
      "text/plain": [
       "vocab.txt:   0%|          | 0.00/232k [00:00<?, ?B/s]"
      ],
      "application/vnd.jupyter.widget-view+json": {
       "version_major": 2,
       "version_minor": 0,
       "model_id": "ccc914d71ff74df98d3fa23de1159e6d"
      }
     },
     "metadata": {},
     "output_type": "display_data"
    },
    {
     "data": {
      "text/plain": [
       "tokenizer.json:   0%|          | 0.00/466k [00:00<?, ?B/s]"
      ],
      "application/vnd.jupyter.widget-view+json": {
       "version_major": 2,
       "version_minor": 0,
       "model_id": "8786b13e70d14a3f88af587fc9007e48"
      }
     },
     "metadata": {},
     "output_type": "display_data"
    },
    {
     "data": {
      "text/plain": [
       "special_tokens_map.json:   0%|          | 0.00/112 [00:00<?, ?B/s]"
      ],
      "application/vnd.jupyter.widget-view+json": {
       "version_major": 2,
       "version_minor": 0,
       "model_id": "8126050a88984649b470ef0aa90323db"
      }
     },
     "metadata": {},
     "output_type": "display_data"
    },
    {
     "data": {
      "text/plain": [
       "1_Pooling%2Fconfig.json:   0%|          | 0.00/190 [00:00<?, ?B/s]"
      ],
      "application/vnd.jupyter.widget-view+json": {
       "version_major": 2,
       "version_minor": 0,
       "model_id": "ae88cb232eeb4510843e34ea14855580"
      }
     },
     "metadata": {},
     "output_type": "display_data"
    }
   ],
   "execution_count": 12,
   "source": "encoder = SentenceTransformer('all-MiniLM-L6-v2') # Model to create embeddings",
   "id": "2b0e4be5-7518-4458-bf47-6913ef9a72a9"
  },
  {
   "metadata": {
    "ExecuteTime": {
     "end_time": "2025-03-01T04:37:53.555781Z",
     "start_time": "2025-03-01T04:37:53.538011Z"
    }
   },
   "cell_type": "code",
   "outputs": [],
   "execution_count": 13,
   "source": [
    "# create the vector database client\n",
    "qdrant = QdrantClient(\":memory:\") # Create in-memory Qdrant instance"
   ],
   "id": "5efa031d-b18a-4db1-9c34-9989a15c822b"
  },
  {
   "metadata": {
    "ExecuteTime": {
     "end_time": "2025-03-01T04:42:55.857660Z",
     "start_time": "2025-03-01T04:42:55.845465Z"
    }
   },
   "cell_type": "code",
   "source": "ted_talk_collection = \"ted_talks\"",
   "id": "e9c6611e8c86ce81",
   "outputs": [],
   "execution_count": 17
  },
  {
   "cell_type": "code",
   "id": "6c03be93-a076-425e-8df1-5a8b6367e558",
   "metadata": {
    "ExecuteTime": {
     "end_time": "2025-03-01T04:42:58.324240Z",
     "start_time": "2025-03-01T04:42:58.317230Z"
    }
   },
   "source": [
    "# Create collection to store wines\n",
    "if qdrant.collection_exists(ted_talk_collection):\n",
    "    qdrant.delete_collection(ted_talk_collection)\n",
    "\n",
    "qdrant.create_collection(\n",
    "    collection_name=ted_talk_collection,\n",
    "    vectors_config=models.VectorParams(\n",
    "        size=encoder.get_sentence_embedding_dimension(), # Vector size is defined by used model\n",
    "        distance=models.Distance.COSINE\n",
    "    )\n",
    ")"
   ],
   "outputs": [
    {
     "data": {
      "text/plain": [
       "True"
      ]
     },
     "execution_count": 18,
     "metadata": {},
     "output_type": "execute_result"
    }
   ],
   "execution_count": 18
  },
  {
   "cell_type": "code",
   "id": "655d08af-758f-4338-b112-cf94045c7b0d",
   "metadata": {
    "ExecuteTime": {
     "end_time": "2025-03-01T04:43:57.519041Z",
     "start_time": "2025-03-01T04:43:20.250506Z"
    }
   },
   "source": [
    "# vectorize!\n",
    "qdrant.upload_points(\n",
    "    collection_name=ted_talk_collection,\n",
    "    points=[\n",
    "        models.PointStruct(\n",
    "            id=idx,\n",
    "            vector=encoder.encode(doc[\"about_talk\"]).tolist(),\n",
    "            payload=doc,\n",
    "        ) for idx, doc in enumerate(data) # data is the variable holding all the wines\n",
    "    ]\n",
    ")"
   ],
   "outputs": [],
   "execution_count": 19
  },
  {
   "cell_type": "code",
   "id": "f23bc999",
   "metadata": {
    "ExecuteTime": {
     "end_time": "2025-03-01T04:44:03.359248Z",
     "start_time": "2025-03-01T04:44:03.355606Z"
    }
   },
   "source": "user_prompt = \"Suggest me something related to adventure in the nature and wild\"",
   "outputs": [],
   "execution_count": 20
  },
  {
   "cell_type": "code",
   "id": "68c9bff5-db38-4a98-b542-cd173af11b53",
   "metadata": {
    "ExecuteTime": {
     "end_time": "2025-03-01T04:47:21.922197Z",
     "start_time": "2025-03-01T04:47:21.489734Z"
    }
   },
   "source": [
    "# Search time for ted talks\n",
    "hits = qdrant.search(\n",
    "    collection_name=ted_talk_collection,\n",
    "    query_vector=encoder.encode(user_prompt).tolist(),\n",
    "    limit=3\n",
    ")\n",
    "for hit in hits:\n",
    "  print(hit.payload, \"score:\", hit.score)"
   ],
   "outputs": [
    {
     "name": "stdout",
     "output_type": "stream",
     "text": [
      "{'speaker_name': 'Lisa Winer', 'title': 'Can you solve the river crossing riddle?', 'posted_date': 'Nov 2016', 'duration': '3:58', 'Link': 'https://www.ted.com/talks/lisa_winer_can_you_solve_the_river_crossing_riddle?language=en', 'about_speaker': nan, 'about_talk': 'As a wildfire rages through the grasslands, three lions and three wildebeest flee for their lives. To escape the inferno, they must cross over to the left bank of a crocodile-infested river. Can you help them figure out how to get across on the one raft available without losing any lives? Lisa Winer shows how. [Directed by Artrake Studio, narrated by Addison Anderson].', 'views': '4,929,129', 'tags': 'poverty,finance,art'} score: 0.42276408329670906\n",
      "{'speaker_name': 'Steve Boyes', 'title': \"How we're saving one of Earth's last wild places\", 'posted_date': 'Jul 2018', 'duration': '9:01', 'Link': 'https://www.ted.com/talks/steve_boyes_how_we_re_saving_one_of_earth_s_last_wild_places?language=en', 'about_speaker': 'Steve Boyes is working to study and conserve the endangered Okavango Delta in Botswana. ', 'about_talk': \"Navigating territorial hippos and active minefields, TED Fellow Steve Boyes and a team of scientists have been traveling through the Okavango Delta, Africa's largest remaining wetland wilderness, to explore and protect this near-pristine habitat against the rising threat of development. In this awe-inspiring talk packed with images, he shares his work doing detailed scientific surveys in the hopes of protecting this enormous, fragile wilderness.\", 'views': '1,420,290', 'tags': 'relationships,personal growth,self'} score: 0.4223169363154641\n",
      "{'speaker_name': 'Emma Marris', 'title': 'Nature is everywhere — we just need to learn to see it', 'posted_date': 'Jul 2016', 'duration': '15:52', 'Link': 'https://www.ted.com/talks/emma_marris_nature_is_everywhere_we_just_need_to_learn_to_see_it?language=en', 'about_speaker': 'Emma Marris is a writer focusing on environmental science, policy and culture, with an approach that she paints as being \"more interested in finding and describing solutions than delineating problems, and more interested in joy than despair.\"', 'about_talk': 'How do you define \"nature?\" If we define it as that which is untouched by humans, then we won\\'t have any left, says environmental writer Emma Marris. She urges us to consider a new definition of nature -- one that includes not only pristine wilderness but also the untended patches of plants growing in urban spaces -- and encourages us to bring our children out to touch and tinker with it, so that one day they might love and protect it.', 'views': '1,349,849', 'tags': 'literature,writing,global issues'} score: 0.3851689185142723\n"
     ]
    },
    {
     "name": "stderr",
     "output_type": "stream",
     "text": [
      "/var/folders/j3/1tqsh61545z4hkn9_8qq3nzr0000gn/T/ipykernel_67844/1305649943.py:2: DeprecationWarning: `search` method is deprecated and will be removed in the future. Use `query_points` instead.\n",
      "  hits = qdrant.search(\n"
     ]
    }
   ],
   "execution_count": 22
  },
  {
   "cell_type": "code",
   "id": "33243e5d-9e0d-4ec4-98e9-3fc56b8bdb10",
   "metadata": {
    "ExecuteTime": {
     "end_time": "2025-03-01T04:49:05.599343Z",
     "start_time": "2025-03-01T04:49:05.589858Z"
    }
   },
   "source": [
    "# define a variable to hold the search results\n",
    "search_results = [hit.payload for hit in hits]"
   ],
   "outputs": [],
   "execution_count": 23
  },
  {
   "cell_type": "code",
   "id": "e6c2b91e",
   "metadata": {
    "ExecuteTime": {
     "end_time": "2025-03-01T05:09:30.151176Z",
     "start_time": "2025-03-01T05:09:11.031293Z"
    }
   },
   "source": [
    "# Now time to connect to the local large language model\n",
    "# locally ran llm from https://github.com/Mozilla-Ocho/llamafile?tab=readme-ov-file : llava-v1.5-7b-q4.llamafile\n",
    "from openai import OpenAI\n",
    "client = OpenAI(\n",
    "    base_url=\"http://127.0.0.1:8080/v1\", # \"http://<Your api-server IP>:port\"\n",
    "    api_key = \"sk-no-key-required\"\n",
    ")\n",
    "completion = client.chat.completions.create(\n",
    "    model=\"LLaMA_CPP\",\n",
    "    messages=[\n",
    "        {\"role\": \"system\", \"content\": \"You are chatbot, a video suggestor. Your top priority is to help suggest users into selecting amazing ted talks which fit perfectly with their requests.\"},\n",
    "        {\"role\": \"user\", \"content\": user_prompt},\n",
    "        {\"role\": \"assistant\", \"content\": str(search_results)}\n",
    "    ]\n",
    ")\n",
    "print(completion.choices[0].message)"
   ],
   "outputs": [
    {
     "name": "stdout",
     "output_type": "stream",
     "text": [
      "ChatCompletionMessage(content='Based on your request, I have selected these three Ted Talks that might interest you:\\n\\n1. Lisa Winer\\'s talk \"Can you solve the river crossing riddle?\" explores the problem of three lions and three wildebeest trying to cross a crocodile-infested river to escape a wildfire. This talk might be of interest if you\\'re looking for an adventure in the wild.\\n2. Steve Boyes\\' talk \"How we\\'re saving one of Earth\\'s last wild places\" shares his work studying and conserving the endangered Okavango Delta in Botswana. This talk might be of interest if you\\'re looking for an adventure in the nature and wild.\\n3. Emma Marris\\' talk \"Nature is everywhere — we just need to learn to see it\" explores the definition of nature and encourages us to consider a new definition of nature that includes not only pristine wilderness but also the untended patches of plants growing in urban spaces. This talk might be of interest if you\\'re looking for an adventure in the nature and wild.\\n\\nI hope you find these suggestions interesting and helpful. Let me know if you need any more suggestions.</s>', refusal=None, role='assistant', audio=None, function_call=None, tool_calls=None)\n"
     ]
    }
   ],
   "execution_count": 25
  }
 ],
 "metadata": {
  "kernelspec": {
   "display_name": "Python 3 (ipykernel)",
   "language": "python",
   "name": "python3"
  },
  "language_info": {
   "codemirror_mode": {
    "name": "ipython",
    "version": 3
   },
   "file_extension": ".py",
   "mimetype": "text/x-python",
   "name": "python",
   "nbconvert_exporter": "python",
   "pygments_lexer": "ipython3",
   "version": "3.9.13"
  }
 },
 "nbformat": 4,
 "nbformat_minor": 5
}
